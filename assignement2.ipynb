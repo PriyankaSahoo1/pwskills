{
 "cells": [
  {
   "cell_type": "code",
   "execution_count": null,
   "id": "3bec54e0-fb13-47f0-86f8-b8f6e0e66396",
   "metadata": {},
   "outputs": [],
   "source": [
    "#question1\n",
    "# to comment the code in python we can do so by using '#' or '''  '''\n",
    "# there are 3 types of comment in python\n",
    "# single line comment -#\n",
    "# multi line comment \n",
    "# triple inverted commas "
   ]
  },
  {
   "cell_type": "code",
   "execution_count": null,
   "id": "65b38e25-8b73-4497-9443-c05fb8441f87",
   "metadata": {},
   "outputs": [],
   "source": [
    "# question 2\n",
    "#variable is a location which is used to store data in memory location\n",
    "# we can declare the variables by using identifiers and assignment the value by assignment operator "
   ]
  },
  {
   "cell_type": "code",
   "execution_count": null,
   "id": "e17813a0-25fd-4dd9-ad99-267ed3fd82e4",
   "metadata": {},
   "outputs": [],
   "source": [
    "# question3\n",
    "# we can convert one datatype to another datatype  by typcasting the datatype we want\n",
    "# eg- if we want to int datatype  we can typecast the data  i.e int(90.0) it will give 90"
   ]
  },
  {
   "cell_type": "code",
   "execution_count": null,
   "id": "839b90c0-0da0-4e2d-9260-56a9563f57b0",
   "metadata": {},
   "outputs": [],
   "source": [
    "#question 4\n",
    "#to write the python script we have to make the file to have the extension .py\n",
    "# to execute the python script we have the write python filename.py"
   ]
  },
  {
   "cell_type": "code",
   "execution_count": 1,
   "id": "d8c1a5cf-4f35-49c3-b452-96b90adbcac3",
   "metadata": {},
   "outputs": [
    {
     "data": {
      "text/plain": [
       "[2, 3]"
      ]
     },
     "execution_count": 1,
     "metadata": {},
     "output_type": "execute_result"
    }
   ],
   "source": [
    "#question 5\n",
    "my_list=[1,2,3,4,5]\n",
    "my_list[1:3]"
   ]
  },
  {
   "cell_type": "code",
   "execution_count": null,
   "id": "d44944fe-04fb-4076-9935-66e522b32294",
   "metadata": {},
   "outputs": [],
   "source": [
    "#question 6\n",
    "#complex number in maths is used to represent the real number and imginary number in python it is represented in the form of x+yj where x is the real part and y is the img part"
   ]
  },
  {
   "cell_type": "code",
   "execution_count": 2,
   "id": "05ae4493-80ec-4612-9bbf-993dd24ae2da",
   "metadata": {},
   "outputs": [],
   "source": [
    "#question 7\n",
    "age=25"
   ]
  },
  {
   "cell_type": "code",
   "execution_count": 3,
   "id": "5d1661af-b1d6-4355-a238-a551ca585245",
   "metadata": {},
   "outputs": [],
   "source": [
    "#question 8\n",
    "price=9.99\n",
    "#the variable price belong to float variable\n"
   ]
  },
  {
   "cell_type": "code",
   "execution_count": 4,
   "id": "6a5d19e4-8a35-4222-92bc-203665dca1a6",
   "metadata": {},
   "outputs": [
    {
     "data": {
      "text/plain": [
       "'priyanka'"
      ]
     },
     "execution_count": 4,
     "metadata": {},
     "output_type": "execute_result"
    }
   ],
   "source": [
    "#question9\n",
    "name=\"priyanka\"\n",
    "name"
   ]
  },
  {
   "cell_type": "code",
   "execution_count": 5,
   "id": "e68f06f7-3440-4df6-a054-c127d55ee53b",
   "metadata": {},
   "outputs": [
    {
     "data": {
      "text/plain": [
       "'World'"
      ]
     },
     "execution_count": 5,
     "metadata": {},
     "output_type": "execute_result"
    }
   ],
   "source": [
    "#question 10\n",
    "string=\"Hello World\"\n",
    "string[6: ]"
   ]
  },
  {
   "cell_type": "code",
   "execution_count": null,
   "id": "8fe783cc-59d1-4626-bc99-7bf27a07f54f",
   "metadata": {},
   "outputs": [],
   "source": [
    "#question 11\n",
    "is_student=True\n",
    "if is_stude"
   ]
  }
 ],
 "metadata": {
  "kernelspec": {
   "display_name": "Python 3 (ipykernel)",
   "language": "python",
   "name": "python3"
  },
  "language_info": {
   "codemirror_mode": {
    "name": "ipython",
    "version": 3
   },
   "file_extension": ".py",
   "mimetype": "text/x-python",
   "name": "python",
   "nbconvert_exporter": "python",
   "pygments_lexer": "ipython3",
   "version": "3.10.8"
  }
 },
 "nbformat": 4,
 "nbformat_minor": 5
}
